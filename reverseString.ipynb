{
 "cells": [
  {
   "cell_type": "markdown",
   "id": "7f680717",
   "metadata": {},
   "source": [
    "Problem Statement: reverse a string in different ways"
   ]
  },
  {
   "cell_type": "markdown",
   "id": "7244c795",
   "metadata": {},
   "source": [
    "In julia for printing a line we use the keyword print().\n",
    "If we want to print a string we need to put it inside \"\" \n",
    "double quotations and not inside '' single quotations because unlike \n",
    "other programming lanaguage it doesn't accept both. However if we want \n",
    "print just a character we can use both \"\" and  ''.\n",
    "\n",
    "For taking an input from the user we can use the keywords readline() and readlines().\n"
   ]
  },
  {
   "cell_type": "code",
   "execution_count": 60,
   "id": "3edff20d",
   "metadata": {},
   "outputs": [
    {
     "name": "stdout",
     "output_type": "stream",
     "text": [
      "what is it?\n",
      "stdin> an alien\n"
     ]
    },
    {
     "data": {
      "text/plain": [
       "\"an alien\""
      ]
     },
     "execution_count": 60,
     "metadata": {},
     "output_type": "execute_result"
    }
   ],
   "source": [
    "print(\"what is it?\\n\")\n",
    "string  = readline()"
   ]
  },
  {
   "cell_type": "markdown",
   "id": "49ad31e7",
   "metadata": {},
   "source": [
    "The simplest way in terms of writing a code to reverse a string we can simply use the built in reverse() function."
   ]
  },
  {
   "cell_type": "code",
   "execution_count": 61,
   "id": "83572471",
   "metadata": {},
   "outputs": [
    {
     "data": {
      "text/plain": [
       "\"neila na\""
      ]
     },
     "execution_count": 61,
     "metadata": {},
     "output_type": "execute_result"
    }
   ],
   "source": [
    "reverse(string)"
   ]
  },
  {
   "cell_type": "markdown",
   "id": "a02eec6f",
   "metadata": {},
   "source": [
    "For calculating the length of a string we use the function length()."
   ]
  },
  {
   "cell_type": "code",
   "execution_count": 62,
   "id": "7e6b1a08",
   "metadata": {},
   "outputs": [
    {
     "data": {
      "text/plain": [
       "8"
      ]
     },
     "execution_count": 62,
     "metadata": {},
     "output_type": "execute_result"
    }
   ],
   "source": [
    "n=length(string)"
   ]
  },
  {
   "cell_type": "markdown",
   "id": "9e5a5992",
   "metadata": {},
   "source": [
    "The second method that i have used is the simplest by logic. That is to simply iterate the string using loop backwards. There are two ways for iterating backwards in julia one is given below and the other is by using reverse(1:n) where 1 is the first index and n is last."
   ]
  },
  {
   "cell_type": "code",
   "execution_count": 79,
   "id": "997775d0",
   "metadata": {},
   "outputs": [
    {
     "name": "stdout",
     "output_type": "stream",
     "text": [
      "neila na"
     ]
    }
   ],
   "source": [
    "for i in n:-1:1\n",
    "    print(string[i])\n",
    "end"
   ]
  },
  {
   "cell_type": "markdown",
   "id": "d91fb8c1",
   "metadata": {},
   "source": [
    "There is also a much simpler method which is often used in python and julia. That is provide the indexes in the string itself."
   ]
  },
  {
   "cell_type": "code",
   "execution_count": 80,
   "id": "b79463a3",
   "metadata": {},
   "outputs": [
    {
     "data": {
      "text/plain": [
       "\"neila na\""
      ]
     },
     "execution_count": 80,
     "metadata": {},
     "output_type": "execute_result"
    }
   ],
   "source": [
    "string[n:-1:1]"
   ]
  },
  {
   "cell_type": "code",
   "execution_count": 81,
   "id": "1c6b0596",
   "metadata": {},
   "outputs": [
    {
     "data": {
      "text/plain": [
       "\"neila na\""
      ]
     },
     "execution_count": 81,
     "metadata": {},
     "output_type": "execute_result"
    }
   ],
   "source": [
    "string[reverse(1:n)]\n"
   ]
  },
  {
   "cell_type": "markdown",
   "id": "e543c027",
   "metadata": {},
   "source": [
    "While working with indexes in julia we need to keep in mind that a string or an array unlike other programming languages doesn't start from 0 it starts from 1. "
   ]
  }
 ],
 "metadata": {
  "kernelspec": {
   "display_name": "Julia 1.0.5",
   "language": "julia",
   "name": "julia-1.0"
  },
  "language_info": {
   "file_extension": ".jl",
   "mimetype": "application/julia",
   "name": "julia",
   "version": "1.0.5"
  }
 },
 "nbformat": 4,
 "nbformat_minor": 5
}
